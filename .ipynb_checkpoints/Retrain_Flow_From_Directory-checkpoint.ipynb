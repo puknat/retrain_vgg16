{
 "cells": [
  {
   "cell_type": "markdown",
   "metadata": {},
   "source": [
    "# Retraining the Vgg16 Model using Keras on the celebA Dataset\n",
    "The goal is to classify images of males and females."
   ]
  },
  {
   "cell_type": "code",
   "execution_count": 1,
   "metadata": {},
   "outputs": [],
   "source": [
    "%matplotlib inline\n",
    "import tensorflow as tf\n",
    "import tensorflow.keras as keras\n",
    "import tensorflow.keras.layers as layers\n",
    "from tensorflow.python.keras.models import Model\n",
    "import os\n",
    "import scipy\n",
    "from tqdm import tqdm\n",
    "import numpy as np\n",
    "import util\n",
    "from matplotlib import pyplot as plt"
   ]
  },
  {
   "cell_type": "code",
   "execution_count": 2,
   "metadata": {},
   "outputs": [],
   "source": [
    "def initilaize_seeds(seed):\n",
    "    np.random.seed(seed)\n",
    "    tf.set_random_seed(seed)"
   ]
  },
  {
   "cell_type": "markdown",
   "metadata": {},
   "source": [
    "## Data Structure\n",
    "```\n",
    "data/\n",
    "    train/\n",
    "        Male/\n",
    "            001.jpg\n",
    "            002.jpg\n",
    "            ...\n",
    "        Female/\n",
    "            001.jpg\n",
    "            002.jpg\n",
    "            ...\n",
    "    test/\n",
    "        Male/\n",
    "            001.jpg\n",
    "            002.jpg\n",
    "            ...\n",
    "        Female/\n",
    "            001.jpg\n",
    "            002.jpg\n",
    "            ...\n",
    "```"
   ]
  },
  {
   "cell_type": "markdown",
   "metadata": {},
   "source": [
    "## Loading and Adapting the vgg16 Model "
   ]
  },
  {
   "cell_type": "code",
   "execution_count": 3,
   "metadata": {},
   "outputs": [],
   "source": [
    "# Some constant values for later and seed initialization\n",
    "IMAGE_SHAPE = (100, 100, 3)\n",
    "BATCH_SIZE = 4\n",
    "SEED = 42\n",
    "initilaize_seeds(SEED)"
   ]
  },
  {
   "cell_type": "code",
   "execution_count": 4,
   "metadata": {},
   "outputs": [
    {
     "name": "stdout",
     "output_type": "stream",
     "text": [
      "_________________________________________________________________\n",
      "Layer (type)                 Output Shape              Param #   \n",
      "=================================================================\n",
      "input_1 (InputLayer)         (None, 100, 100, 3)       0         \n",
      "_________________________________________________________________\n",
      "block1_conv1 (Conv2D)        (None, 100, 100, 64)      1792      \n",
      "_________________________________________________________________\n",
      "block1_conv2 (Conv2D)        (None, 100, 100, 64)      36928     \n",
      "_________________________________________________________________\n",
      "block1_pool (MaxPooling2D)   (None, 50, 50, 64)        0         \n",
      "_________________________________________________________________\n",
      "block2_conv1 (Conv2D)        (None, 50, 50, 128)       73856     \n",
      "_________________________________________________________________\n",
      "block2_conv2 (Conv2D)        (None, 50, 50, 128)       147584    \n",
      "_________________________________________________________________\n",
      "block2_pool (MaxPooling2D)   (None, 25, 25, 128)       0         \n",
      "_________________________________________________________________\n",
      "block3_conv1 (Conv2D)        (None, 25, 25, 256)       295168    \n",
      "_________________________________________________________________\n",
      "block3_conv2 (Conv2D)        (None, 25, 25, 256)       590080    \n",
      "_________________________________________________________________\n",
      "block3_conv3 (Conv2D)        (None, 25, 25, 256)       590080    \n",
      "_________________________________________________________________\n",
      "block3_pool (MaxPooling2D)   (None, 12, 12, 256)       0         \n",
      "_________________________________________________________________\n",
      "block4_conv1 (Conv2D)        (None, 12, 12, 512)       1180160   \n",
      "_________________________________________________________________\n",
      "block4_conv2 (Conv2D)        (None, 12, 12, 512)       2359808   \n",
      "_________________________________________________________________\n",
      "block4_conv3 (Conv2D)        (None, 12, 12, 512)       2359808   \n",
      "_________________________________________________________________\n",
      "block4_pool (MaxPooling2D)   (None, 6, 6, 512)         0         \n",
      "_________________________________________________________________\n",
      "block5_conv1 (Conv2D)        (None, 6, 6, 512)         2359808   \n",
      "_________________________________________________________________\n",
      "block5_conv2 (Conv2D)        (None, 6, 6, 512)         2359808   \n",
      "_________________________________________________________________\n",
      "block5_conv3 (Conv2D)        (None, 6, 6, 512)         2359808   \n",
      "_________________________________________________________________\n",
      "block5_pool (MaxPooling2D)   (None, 3, 3, 512)         0         \n",
      "=================================================================\n",
      "Total params: 14,714,688\n",
      "Trainable params: 14,714,688\n",
      "Non-trainable params: 0\n",
      "_________________________________________________________________\n"
     ]
    }
   ],
   "source": [
    "# Get the base model. Just the convolutional part of it.\n",
    "vgg16_model = keras.applications.VGG16(include_top=False, weights='imagenet', input_shape=IMAGE_SHAPE)\n",
    "vgg16_model.summary()"
   ]
  },
  {
   "cell_type": "code",
   "execution_count": 5,
   "metadata": {},
   "outputs": [],
   "source": [
    "# Building of the dense part of our new model, on top of the pre-trained convolutional vgg16 part. \n",
    "x = layers.Flatten()(vgg16_model.output)\n",
    "x = layers.Dense(1024, activation=\"relu\")(x)\n",
    "#x = layers.Dense(128, activation=\"relu\")(x)\n",
    "x = layers.Dense(2, activation=\"softmax\")(x)\n",
    "\n",
    "complete_model = Model(inputs=vgg16_model.input, outputs=x)"
   ]
  },
  {
   "cell_type": "code",
   "execution_count": 6,
   "metadata": {},
   "outputs": [
    {
     "name": "stdout",
     "output_type": "stream",
     "text": [
      "_________________________________________________________________\n",
      "Layer (type)                 Output Shape              Param #   \n",
      "=================================================================\n",
      "input_1 (InputLayer)         (None, 100, 100, 3)       0         \n",
      "_________________________________________________________________\n",
      "block1_conv1 (Conv2D)        (None, 100, 100, 64)      1792      \n",
      "_________________________________________________________________\n",
      "block1_conv2 (Conv2D)        (None, 100, 100, 64)      36928     \n",
      "_________________________________________________________________\n",
      "block1_pool (MaxPooling2D)   (None, 50, 50, 64)        0         \n",
      "_________________________________________________________________\n",
      "block2_conv1 (Conv2D)        (None, 50, 50, 128)       73856     \n",
      "_________________________________________________________________\n",
      "block2_conv2 (Conv2D)        (None, 50, 50, 128)       147584    \n",
      "_________________________________________________________________\n",
      "block2_pool (MaxPooling2D)   (None, 25, 25, 128)       0         \n",
      "_________________________________________________________________\n",
      "block3_conv1 (Conv2D)        (None, 25, 25, 256)       295168    \n",
      "_________________________________________________________________\n",
      "block3_conv2 (Conv2D)        (None, 25, 25, 256)       590080    \n",
      "_________________________________________________________________\n",
      "block3_conv3 (Conv2D)        (None, 25, 25, 256)       590080    \n",
      "_________________________________________________________________\n",
      "block3_pool (MaxPooling2D)   (None, 12, 12, 256)       0         \n",
      "_________________________________________________________________\n",
      "block4_conv1 (Conv2D)        (None, 12, 12, 512)       1180160   \n",
      "_________________________________________________________________\n",
      "block4_conv2 (Conv2D)        (None, 12, 12, 512)       2359808   \n",
      "_________________________________________________________________\n",
      "block4_conv3 (Conv2D)        (None, 12, 12, 512)       2359808   \n",
      "_________________________________________________________________\n",
      "block4_pool (MaxPooling2D)   (None, 6, 6, 512)         0         \n",
      "_________________________________________________________________\n",
      "block5_conv1 (Conv2D)        (None, 6, 6, 512)         2359808   \n",
      "_________________________________________________________________\n",
      "block5_conv2 (Conv2D)        (None, 6, 6, 512)         2359808   \n",
      "_________________________________________________________________\n",
      "block5_conv3 (Conv2D)        (None, 6, 6, 512)         2359808   \n",
      "_________________________________________________________________\n",
      "block5_pool (MaxPooling2D)   (None, 3, 3, 512)         0         \n",
      "_________________________________________________________________\n",
      "flatten (Flatten)            (None, 4608)              0         \n",
      "_________________________________________________________________\n",
      "dense (Dense)                (None, 1024)              4719616   \n",
      "_________________________________________________________________\n",
      "dense_1 (Dense)              (None, 2)                 2050      \n",
      "=================================================================\n",
      "Total params: 19,436,354\n",
      "Trainable params: 19,436,354\n",
      "Non-trainable params: 0\n",
      "_________________________________________________________________\n"
     ]
    }
   ],
   "source": [
    "complete_model.summary()"
   ]
  },
  {
   "cell_type": "code",
   "execution_count": 7,
   "metadata": {},
   "outputs": [
    {
     "name": "stdout",
     "output_type": "stream",
     "text": [
      "Layer Name: input_1                 Trainable: True\n",
      "Layer Name: block1_conv1            Trainable: True\n",
      "Layer Name: block1_conv2            Trainable: True\n",
      "Layer Name: block1_pool             Trainable: True\n",
      "Layer Name: block2_conv1            Trainable: True\n",
      "Layer Name: block2_conv2            Trainable: True\n",
      "Layer Name: block2_pool             Trainable: True\n",
      "Layer Name: block3_conv1            Trainable: True\n",
      "Layer Name: block3_conv2            Trainable: True\n",
      "Layer Name: block3_conv3            Trainable: True\n",
      "Layer Name: block3_pool             Trainable: True\n",
      "Layer Name: block4_conv1            Trainable: True\n",
      "Layer Name: block4_conv2            Trainable: True\n",
      "Layer Name: block4_conv3            Trainable: True\n",
      "Layer Name: block4_pool             Trainable: True\n",
      "Layer Name: block5_conv1            Trainable: True\n",
      "Layer Name: block5_conv2            Trainable: True\n",
      "Layer Name: block5_conv3            Trainable: True\n",
      "Layer Name: block5_pool             Trainable: True\n",
      "Layer Name: flatten                 Trainable: True\n",
      "Layer Name: dense                   Trainable: True\n",
      "Layer Name: dense_1                 Trainable: True\n"
     ]
    }
   ],
   "source": [
    "# Right now all layers of the model would be trained. \n",
    "for layer in complete_model.layers:\n",
    "    print('Layer Name: {:20}    Trainable: {}'.format(layer.name, layer.trainable))"
   ]
  },
  {
   "cell_type": "code",
   "execution_count": 8,
   "metadata": {},
   "outputs": [
    {
     "name": "stdout",
     "output_type": "stream",
     "text": [
      "Layer Name: input_1                 Trainable: False\n",
      "Layer Name: block1_conv1            Trainable: False\n",
      "Layer Name: block1_conv2            Trainable: False\n",
      "Layer Name: block1_pool             Trainable: False\n",
      "Layer Name: block2_conv1            Trainable: False\n",
      "Layer Name: block2_conv2            Trainable: False\n",
      "Layer Name: block2_pool             Trainable: False\n",
      "Layer Name: block3_conv1            Trainable: False\n",
      "Layer Name: block3_conv2            Trainable: False\n",
      "Layer Name: block3_conv3            Trainable: False\n",
      "Layer Name: block3_pool             Trainable: False\n",
      "Layer Name: block4_conv1            Trainable: False\n",
      "Layer Name: block4_conv2            Trainable: False\n",
      "Layer Name: block4_conv3            Trainable: False\n",
      "Layer Name: block4_pool             Trainable: False\n",
      "Layer Name: block5_conv1            Trainable: False\n",
      "Layer Name: block5_conv2            Trainable: False\n",
      "Layer Name: block5_conv3            Trainable: False\n",
      "Layer Name: block5_pool             Trainable: False\n",
      "Layer Name: flatten                 Trainable: True\n",
      "Layer Name: dense                   Trainable: True\n",
      "Layer Name: dense_1                 Trainable: True\n"
     ]
    }
   ],
   "source": [
    "# Training the convolutional part of the model (at this time) would, however, not be benefitial.\n",
    "# It would actually casue damage to the finely pre-trained model.\n",
    "# So the convulutional layers are set not to be tainable.\n",
    "vgg16_model.trainable = False\n",
    "for layer in vgg16_model.layers:\n",
    "    layer.trainable = False\n",
    "\n",
    "for layer in complete_model.layers:\n",
    "    print('Layer Name: {:20}    Trainable: {}'.format(layer.name, layer.trainable))"
   ]
  },
  {
   "cell_type": "code",
   "execution_count": 9,
   "metadata": {},
   "outputs": [
    {
     "name": "stdout",
     "output_type": "stream",
     "text": [
      "Found 199387 images belonging to 2 classes.\n",
      "Found 988 images belonging to 2 classes.\n",
      "Found 2000 images belonging to 2 classes.\n"
     ]
    }
   ],
   "source": [
    "# Defines the configuration of the generator, for example the transformations to apply\n",
    "# Of the 202599 total images 1000 should be used for validation\n",
    "# Rescaling from integer color representation [0 to 255] to float representation [0.0 to 1.0] (important!)\n",
    "generator_configuration = keras.preprocessing.image.ImageDataGenerator(data_format='channels_last',\n",
    "                                                                       rescale=1/255.0,\n",
    "                                                                       validation_split=1000/202599)\n",
    "\n",
    "generator_configuration_test = keras.preprocessing.image.ImageDataGenerator(data_format='channels_last')\n",
    "\n",
    "# Creating the actual Iterators\n",
    "training_generator = generator_configuration.flow_from_directory(directory='./data/train',\n",
    "                    target_size=IMAGE_SHAPE[0:2],\n",
    "                    #color_mode='rgb',\n",
    "                    class_mode='categorical', # Use one-hot encoded labels\n",
    "                    batch_size=BATCH_SIZE,\n",
    "                    shuffle=True,\n",
    "                    subset=\"training\", # Use the traing part of the split\n",
    "                    interpolation='nearest',\n",
    "                    seed=SEED)\n",
    "\n",
    "validation_generator = generator_configuration.flow_from_directory(directory='./data/train',\n",
    "                    target_size=IMAGE_SHAPE[0:2],\n",
    "                    #color_mode='rgb',\n",
    "                    class_mode='categorical', # Use one-hot encoded labels\n",
    "                    batch_size=BATCH_SIZE,\n",
    "                    shuffle=True, # Usefull if not all samples are used, otherwise only examples of one class might be used\n",
    "                    subset=\"validation\", # Use the validation part of the split\n",
    "                    interpolation='nearest',\n",
    "                    seed=SEED)\n",
    "\n",
    "test_generator = generator_configuration_test.flow_from_directory(directory='./data/test',\n",
    "                    target_size=IMAGE_SHAPE[0:2],\n",
    "                    #color_mode='rgb',\n",
    "                    class_mode='categorical', # Use one-hot encoded labels\n",
    "                    batch_size=BATCH_SIZE,\n",
    "                    shuffle=False, # No need to shuffle, if not used for training\n",
    "                    interpolation='nearest',\n",
    "                    seed=SEED)"
   ]
  },
  {
   "cell_type": "markdown",
   "metadata": {},
   "source": [
    "The class index 0 maps to Female and 1 to Male.\n",
    "This is needed to define the class weights. These weights are needed because the numbers of male examples and female examples are unequal. There are about 117000 female images but only about 83000 males.\n",
    "\n",
    "$\\frac{117000}{83000}\\approx1.41$\n",
    "\n",
    "So the class weight for female is going to be one and for male 1.41. While training, male examples will have more weight, to balance the heigher number of female examples."
   ]
  },
  {
   "cell_type": "code",
   "execution_count": 10,
   "metadata": {},
   "outputs": [
    {
     "data": {
      "text/plain": [
       "{'Female': 0, 'Male': 1}"
      ]
     },
     "execution_count": 10,
     "metadata": {},
     "output_type": "execute_result"
    }
   ],
   "source": [
    "training_generator.class_indices"
   ]
  },
  {
   "cell_type": "code",
   "execution_count": 11,
   "metadata": {},
   "outputs": [],
   "source": [
    "class_weights = {0:1.0, 1:1.41}"
   ]
  },
  {
   "cell_type": "code",
   "execution_count": 12,
   "metadata": {},
   "outputs": [],
   "source": [
    "optimizer = keras.optimizers.Adam(lr=0.001)\n",
    "\n",
    "# Compiling the model to use a specifiv optimizer, loss function and to record metrics.\n",
    "complete_model.compile(optimizer=optimizer,\n",
    "                       loss='categorical_crossentropy',\n",
    "                       metrics=['accuracy'])"
   ]
  },
  {
   "cell_type": "code",
   "execution_count": 13,
   "metadata": {},
   "outputs": [
    {
     "ename": "TypeError",
     "evalue": "fit_generator() got an unexpected keyword argument 'seed'",
     "output_type": "error",
     "traceback": [
      "\u001b[1;31m---------------------------------------------------------------------------\u001b[0m",
      "\u001b[1;31mTypeError\u001b[0m                                 Traceback (most recent call last)",
      "\u001b[1;32m<ipython-input-13-5b6857efab23>\u001b[0m in \u001b[0;36m<module>\u001b[1;34m\u001b[0m\n\u001b[0;32m      9\u001b[0m                              \u001b[0minitial_epoch\u001b[0m\u001b[1;33m=\u001b[0m\u001b[1;36m0\u001b[0m\u001b[1;33m,\u001b[0m\u001b[1;33m\u001b[0m\u001b[0m\n\u001b[0;32m     10\u001b[0m                              \u001b[0mclass_weight\u001b[0m\u001b[1;33m=\u001b[0m\u001b[0mclass_weights\u001b[0m\u001b[1;33m,\u001b[0m\u001b[1;33m\u001b[0m\u001b[0m\n\u001b[1;32m---> 11\u001b[1;33m                              seed=SEED)\n\u001b[0m",
      "\u001b[1;31mTypeError\u001b[0m: fit_generator() got an unexpected keyword argument 'seed'"
     ]
    }
   ],
   "source": [
    "training_history = complete_model.fit_generator(training_generator,\n",
    "                             steps_per_epoch=5000,\n",
    "                             epochs=4,\n",
    "                             verbose=2,\n",
    "                             validation_data=validation_generator,\n",
    "                             validation_steps=100,\n",
    "                             use_multiprocessing=False,\n",
    "                             shuffle=True,\n",
    "                             initial_epoch=0,\n",
    "                             class_weight=class_weights)"
   ]
  },
  {
   "cell_type": "code",
   "execution_count": 26,
   "metadata": {},
   "outputs": [
    {
     "data": {
      "text/plain": [
       "{'Female': 0, 'Male': 1}"
      ]
     },
     "execution_count": 26,
     "metadata": {},
     "output_type": "execute_result"
    }
   ],
   "source": [
    "validation_generator.class_indices"
   ]
  },
  {
   "cell_type": "code",
   "execution_count": 13,
   "metadata": {},
   "outputs": [],
   "source": [
    "# Inverting the mapping from {'Female': 0, 'Male': 1} to {0 : 'Female', 1 : 'Male'}\n",
    "# to retrieve the calss name from the lable\n",
    "lable_map = {v: k for k, v in validation_generator.class_indices.items()}"
   ]
  },
  {
   "cell_type": "code",
   "execution_count": 21,
   "metadata": {},
   "outputs": [
    {
     "name": "stdout",
     "output_type": "stream",
     "text": [
      "Female\n"
     ]
    },
    {
     "data": {
      "image/png": "[encoded data removed]",
      "text/plain": [
       "<Figure size 432x288 with 1 Axes>"
      ]
     },
     "metadata": {
      "needs_background": "light"
     },
     "output_type": "display_data"
    }
   ],
   "source": [
    "#  Get one batch (in this case one image with one lable)\n",
    "data = validation_generator.next()\n",
    "plt.imshow(np.squeeze(data[0][0]).astype(int))\n",
    "print(lable_map[np.argmax(np.squeeze(data[1][0]))])"
   ]
  },
  {
   "cell_type": "code",
   "execution_count": 18,
   "metadata": {},
   "outputs": [
    {
     "data": {
      "text/plain": [
       "{'loss': [9.153266595381995, 9.602113286001087], 'acc': [0.429, 0.401]}"
      ]
     },
     "execution_count": 18,
     "metadata": {},
     "output_type": "execute_result"
    }
   ],
   "source": [
    "training_history.history"
   ]
  }
 ],
 "metadata": {
  "kernelspec": {
   "display_name": "Python 3",
   "language": "python",
   "name": "python3"
  },
  "language_info": {
   "codemirror_mode": {
    "name": "ipython",
    "version": 3
   },
   "file_extension": ".py",
   "mimetype": "text/x-python",
   "name": "python",
   "nbconvert_exporter": "python",
   "pygments_lexer": "ipython3",
   "version": "3.6.6"
  }
 },
 "nbformat": 4,
 "nbformat_minor": 2
}
